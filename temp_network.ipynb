{
 "cells": [
  {
   "cell_type": "code",
   "execution_count": 1,
   "metadata": {},
   "outputs": [],
   "source": [
    "from tensorflow.keras.datasets import mnist\n",
    "import torch\n",
    "from torch import nn \n",
    "import numpy as np \n",
    "from torch.utils.data import TensorDataset,DataLoader\n",
    "from sklearn.model_selection import train_test_split\n",
    "from tqdm import tqdm\n",
    "import wandb"
   ]
  },
  {
   "cell_type": "code",
   "execution_count": 10,
   "metadata": {},
   "outputs": [],
   "source": [
    "# 通用config\n",
    "config = {\n",
    "    \"lr\":0.001,\n",
    "    \"batch_size\":16,\n",
    "    \"epoch\":20,\n",
    "}"
   ]
  },
  {
   "cell_type": "code",
   "execution_count": 19,
   "metadata": {},
   "outputs": [],
   "source": [
    "class base_config():\n",
    "    def __init__(self,lr,epoch,batch_size):\n",
    "        self.lr = lr \n",
    "        self.epoch = epoch\n",
    "        self.batch_size = batch_size"
   ]
  },
  {
   "cell_type": "code",
   "execution_count": 20,
   "metadata": {},
   "outputs": [],
   "source": [
    "def create_dataloader(data,batch_size):\n",
    "    return DataLoader(data,batch_size=batch_size,shuffle=True)"
   ]
  },
  {
   "cell_type": "code",
   "execution_count": 21,
   "metadata": {},
   "outputs": [],
   "source": [
    "class classify_trainer():\n",
    "    def __init__(self,model,optimizer,loss_function,traindata,testdata,config,device,valdata=None,use_wandb=False):\n",
    "        self.device = device\n",
    "        self.model = model.to(device)\n",
    "        self.config = config\n",
    "        self.optimizer = optimizer\n",
    "        self.loss_function = loss_function\n",
    "        self.use_wandb = use_wandb\n",
    "        self.trainloader = DataLoader(traindata,batch_size=self.config.batch_size,shuffle=True)\n",
    "        self.testloader = DataLoader(testdata,batch_size=self.config.batch_size,shuffle=True)\n",
    "        if valdata is not None:\n",
    "            self.validloader = DataLoader(valdata,batch_size=self.config.batch_size,shuffle=True)\n",
    "        else:\n",
    "            self.validloader = None\n",
    "        \n",
    "        # init wandb\n",
    "        if self.use_wandb:\n",
    "            project_name = input('please input wandb project name')\n",
    "            print('wandb is loading')\n",
    "            config_dict = {\n",
    "                \"lr\":self.config.lr,\n",
    "                \"batch_size\":self.config.batch_size,\n",
    "                \"epoch\":self.config.epoch,\n",
    "            }\n",
    "            wandb.init(project_name=project_name,config=config_dict)\n",
    "    \n",
    "    # compute accuracy\n",
    "    @classmethod \n",
    "    def compute_acc(pred,label):\n",
    "        return np.equal(pred,label).mean()\n",
    "    \n",
    "    @classmethod\n",
    "    def eval(self,model,dataloader,loss_function,device):\n",
    "        loss = 0\n",
    "        acc = 0\n",
    "        model = model.to(device)\n",
    "        model.eval() # 禁用dropout和bn层\n",
    "        for idx,(data,label) in tqdm(enumerate(dataloader)):\n",
    "            data = data.to(device)\n",
    "            label = label.to(device)\n",
    "            out = model(data)\n",
    "            # 计算loss值\n",
    "            loss += loss_function(out,label).item()\n",
    "            # 计算accuracy\n",
    "            # argmax这块先留个心眼，我不确定这个axis是不是需要微调\n",
    "            pred = torch.argmax(out,axis=1)\n",
    "            pred = pred.cpu().detach().numpy()\n",
    "            label = label.cpu().detach().numpy()\n",
    "            acc += self.compute_acc(pred,label)\n",
    "        \n",
    "        avg_loss = loss/ len(dataloader)\n",
    "        avg_acc = acc / len(dataloader)\n",
    "        return avg_loss,avg_acc\n",
    "        \n",
    "    \n",
    "    def train(self,print_message=True):\n",
    "        for i in tqdm(range(1,self.config.epoch+1)):\n",
    "            # 进行一个model.train()\n",
    "            self.model.train()\n",
    "            # 对于训练过程中每一个epoch的参数记录\n",
    "            train_loss = 0\n",
    "            train_acc = 0\n",
    "            for idx,(data,label) in tqdm(enumerate(self.trainloader)):\n",
    "                data = data.to(self.device)\n",
    "                label = label.to(self.device)\n",
    "                out = self.model(data)\n",
    "                loss = self.loss_function(out,label)\n",
    "                \n",
    "                self.optimizer.zero_grad()\n",
    "                loss.backward()\n",
    "                self.optimizer.step()\n",
    "                # 计算出来损失函数\n",
    "                train_loss += loss.item()\n",
    "                # 转到cpu上计算准确率\n",
    "                pred = torch.argmax(out,axis=1)\n",
    "                pred = pred.cpu().detach().numpy()\n",
    "                label = label.cpu().detach().numpy()\n",
    "                train_acc += self.compute_acc(pred,label)\n",
    "            # 一个epoch结束后，计算均值\n",
    "            train_loss = train_loss / len(self.trainloader)\n",
    "            train_acc = train_acc  / len(self.trainloader)\n",
    "            # 剩下的是验证集和测试集\n",
    "            if self.validloader:\n",
    "                valid_loss,valid_acc = eval(self.model,self.validloader,self.loss_function,self.device)\n",
    "            else:\n",
    "                valid_loss =0.0\n",
    "                valid_acc = 0.0\n",
    "            \n",
    "            test_loss,test_acc = eval(self.model,self.testloader,self.loss_function,self.device)     \n",
    "            if self.use_wandb:\n",
    "                wandb.log(\n",
    "                    {\n",
    "                        \"Train loss\":train_loss,\n",
    "                        \"Train Accuracy\":train_acc,\n",
    "                        \"Valid loss\":valid_loss,\n",
    "                        \"Valid Accuracy\":valid_acc,\n",
    "                        \"Test loss\":test_loss,\n",
    "                        \"Test Accuracy\":test_acc\n",
    "                    }\n",
    "                )\n",
    "            if print_message:\n",
    "                print('epoch:',i)\n",
    "                print('Train loss',train_loss,'train_acc',train_acc)\n",
    "                print('Valid loss',valid_loss,'valid_acc',valid_acc)\n",
    "                print('Test loss',test_loss,'test acc',test_acc) \n",
    "        print('Finished')\n",
    "        if self.use_wandb:\n",
    "            wandb.finish()"
   ]
  },
  {
   "cell_type": "code",
   "execution_count": 2,
   "metadata": {},
   "outputs": [
    {
     "name": "stderr",
     "output_type": "stream",
     "text": [
      "wandb: Currently logged in as: zhijiao. Use `wandb login --relogin` to force relogin\n"
     ]
    }
   ],
   "source": [
    "!wandb login"
   ]
  },
  {
   "cell_type": "code",
   "execution_count": 3,
   "metadata": {},
   "outputs": [
    {
     "name": "stderr",
     "output_type": "stream",
     "text": [
      "Failed to detect the name of this notebook, you can set it manually with the WANDB_NOTEBOOK_NAME environment variable to enable code saving.\n",
      "\u001b[34m\u001b[1mwandb\u001b[0m: Currently logged in as: \u001b[33mzhijiao\u001b[0m. Use \u001b[1m`wandb login --relogin`\u001b[0m to force relogin\n"
     ]
    },
    {
     "data": {
      "application/vnd.jupyter.widget-view+json": {
       "model_id": "75dc2ab2299b4969bab5980f32092e61",
       "version_major": 2,
       "version_minor": 0
      },
      "text/plain": [
       "VBox(children=(Label(value='Waiting for wandb.init()...\\r'), FloatProgress(value=0.016916666666656966, max=1.0…"
      ]
     },
     "metadata": {},
     "output_type": "display_data"
    },
    {
     "data": {
      "text/html": [
       "Tracking run with wandb version 0.13.10"
      ],
      "text/plain": [
       "<IPython.core.display.HTML object>"
      ]
     },
     "metadata": {},
     "output_type": "display_data"
    },
    {
     "data": {
      "text/html": [
       "Run data is saved locally in <code>c:\\Users\\SuZhao\\Desktop\\temp_repository\\wandb\\run-20230216_161230-3mcoeleg</code>"
      ],
      "text/plain": [
       "<IPython.core.display.HTML object>"
      ]
     },
     "metadata": {},
     "output_type": "display_data"
    },
    {
     "data": {
      "text/html": [
       "Syncing run <strong><a href='https://wandb.ai/zhijiao/Temp_trainer_2/runs/3mcoeleg' target=\"_blank\">honest-water-1</a></strong> to <a href='https://wandb.ai/zhijiao/Temp_trainer_2' target=\"_blank\">Weights & Biases</a> (<a href='https://wandb.me/run' target=\"_blank\">docs</a>)<br/>"
      ],
      "text/plain": [
       "<IPython.core.display.HTML object>"
      ]
     },
     "metadata": {},
     "output_type": "display_data"
    },
    {
     "data": {
      "text/html": [
       " View project at <a href='https://wandb.ai/zhijiao/Temp_trainer_2' target=\"_blank\">https://wandb.ai/zhijiao/Temp_trainer_2</a>"
      ],
      "text/plain": [
       "<IPython.core.display.HTML object>"
      ]
     },
     "metadata": {},
     "output_type": "display_data"
    },
    {
     "data": {
      "text/html": [
       " View run at <a href='https://wandb.ai/zhijiao/Temp_trainer_2/runs/3mcoeleg' target=\"_blank\">https://wandb.ai/zhijiao/Temp_trainer_2/runs/3mcoeleg</a>"
      ],
      "text/plain": [
       "<IPython.core.display.HTML object>"
      ]
     },
     "metadata": {},
     "output_type": "display_data"
    },
    {
     "data": {
      "text/html": [
       "<button onClick=\"this.nextSibling.style.display='block';this.style.display='none';\">Display W&B run</button><iframe src='https://wandb.ai/zhijiao/Temp_trainer_2/runs/3mcoeleg?jupyter=true' style='border:none;width:100%;height:420px;display:none;'></iframe>"
      ],
      "text/plain": [
       "<wandb.sdk.wandb_run.Run at 0x1c45e2d6c88>"
      ]
     },
     "execution_count": 3,
     "metadata": {},
     "output_type": "execute_result"
    }
   ],
   "source": [
    "wandb.init(project='Temp_trainer_2')"
   ]
  },
  {
   "cell_type": "code",
   "execution_count": 4,
   "metadata": {},
   "outputs": [],
   "source": [
    "train_data,test_data = mnist.load_data()"
   ]
  },
  {
   "cell_type": "code",
   "execution_count": 5,
   "metadata": {},
   "outputs": [],
   "source": [
    "# 数据集太大，用一小部分试一试\n",
    "data,label = train_data[0][0:1000],train_data[1][0:1000]\n",
    "# 考虑到灰度数据用conv2d处理的时候需要增加一个通道维度，需要对数据集进行一个变换\n",
    "data = np.expand_dims(data,1)"
   ]
  },
  {
   "cell_type": "code",
   "execution_count": 6,
   "metadata": {},
   "outputs": [],
   "source": [
    "batch_size = 32"
   ]
  },
  {
   "cell_type": "code",
   "execution_count": 7,
   "metadata": {},
   "outputs": [],
   "source": [
    "# 撸个简单的卷积神经网络\n",
    "class Net(nn.Module):\n",
    "    def __init__(self):\n",
    "        super().__init__()\n",
    "        self.conv1 = nn.Conv2d(1,3,3,1,1)\n",
    "        self.pooling = nn.MaxPool2d(2)\n",
    "        self.bn = nn.BatchNorm2d(3)\n",
    "        self.relu = nn.ReLU()\n",
    "        self.flatten = nn.Flatten()\n",
    "        self.fc =  nn.Linear(14*14*3,10)\n",
    "    def forward(self,x):\n",
    "        x = self.conv1(x)\n",
    "        x = self.pooling(x)\n",
    "        x = self.bn(x)\n",
    "        x = self.relu(x)\n",
    "        x = self.flatten(x)\n",
    "        x= self.fc(x)\n",
    "        return x\n"
   ]
  },
  {
   "cell_type": "code",
   "execution_count": 8,
   "metadata": {},
   "outputs": [],
   "source": [
    "# 设置一下Batch_size\n",
    "\n",
    "\n",
    "batch_size = 32\n",
    "# 构造数据集\n",
    "data = torch.Tensor(data)\n",
    "label = torch.LongTensor(label)\n",
    "# 划分数据集\n",
    "x_train,x_test,y_train,y_test = train_test_split(data,label)\n",
    "x_train = x_train[150:]\n",
    "y_train = y_train[150:]\n",
    "\n",
    "x_valid = x_train[0:150]\n",
    "y_valid = y_train[0:150]\n",
    "\n",
    "TrainData = TensorDataset(x_train,y_train)\n",
    "ValidData = TensorDataset(x_valid,y_valid)\n",
    "TestData = TensorDataset(x_test,y_test)\n",
    "\n",
    "# 搞个loader\n",
    "TrainLoader = DataLoader(TrainData,batch_size=batch_size,shuffle=True)\n",
    "ValidLoader = DataLoader(ValidData,batch_size=batch_size,shuffle=True)\n",
    "TestLoader = DataLoader(TestData,batch_size=batch_size,shuffle=True)\n"
   ]
  },
  {
   "cell_type": "code",
   "execution_count": 9,
   "metadata": {},
   "outputs": [],
   "source": [
    "# 训练(我觉得我有必要写一个Trainer的库，方便之后进行调用，但是这次主要是为了搞wandb)\n",
    "# 在写主要的训练函数之前，需要先写一个eval函数，用于对验证集和测试集进行评估。\n",
    "# 再补一个函数，对于分类的数据，计算accuracy,输入为np.array类型的输出值（因此需要在训练过程中进行一个数据转换）\n",
    "def compute_acc(pred,label):\n",
    "    return np.equal(pred,label).mean()\n",
    "    \n",
    "def eval(model,dataloader,loss_function,device):\n",
    "    loss = 0\n",
    "    acc = 0\n",
    "    model.eval() # 禁用dropout和bn层\n",
    "    for idx,(data,label) in tqdm(enumerate(dataloader)):\n",
    "        data = data.to(device)\n",
    "        label = label.to(device)\n",
    "        out = model(data)\n",
    "        # 计算loss值\n",
    "        loss += loss_function(out,label).item()\n",
    "        # 计算accuracy\n",
    "        # argmax这块先留个心眼，我不确定这个axis是不是需要微调\n",
    "        pred = torch.argmax(out,axis=1)\n",
    "        pred = pred.cpu().detach().numpy()\n",
    "        label = label.cpu().detach().numpy()\n",
    "        acc += compute_acc(pred,label)\n",
    "    \n",
    "    avg_loss = loss/ len(dataloader)\n",
    "    avg_acc = acc / len(dataloader)\n",
    "    return avg_loss,avg_acc\n",
    "         \n",
    "# 现在可以写train函数了   (model需要先放到GPU上才可以)\n",
    "def train(model,optimizer,loss_function,epoch,trainloader,validloader,testloader,device,use_wandb=False):\n",
    "    # 开始训练\n",
    "    for i in tqdm(range(1,epoch+1)):\n",
    "        # 进行一个model.train()\n",
    "        model.train()\n",
    "        # 对于训练过程中每一个epoch的参数记录\n",
    "        train_loss = 0\n",
    "        train_acc = 0\n",
    "        for idx,(data,label) in tqdm(enumerate(trainloader)):\n",
    "            data = data.to(device)\n",
    "            label = label.to(device)\n",
    "            out = model(data)\n",
    "            loss = loss_function(out,label)\n",
    "            \n",
    "            optimizer.zero_grad()\n",
    "            loss.backward()\n",
    "            optimizer.step()\n",
    "            # 计算出来损失函数\n",
    "            train_loss += loss.item()\n",
    "            # 转到cpu上计算准确率\n",
    "            pred = torch.argmax(out,axis=1)\n",
    "            pred = pred.cpu().detach().numpy()\n",
    "            label = label.cpu().detach().numpy()\n",
    "            train_acc += compute_acc(pred,label)\n",
    "        # 一个epoch结束后，计算均值\n",
    "        train_loss = train_loss / len(trainloader)\n",
    "        train_acc = train_acc  / len(trainloader)\n",
    "        # 剩下的是验证集和测试集\n",
    "        valid_loss,valid_acc = eval(model,validloader,loss_function,device=device)\n",
    "        test_loss,test_acc = eval(model,testloader,loss_function,device=device)       \n",
    "        if use_wandb:\n",
    "            wandb.log(\n",
    "                {\n",
    "                    \"Train loss\":train_loss,\n",
    "                    \"Train Accuracy\":train_acc,\n",
    "                    \"Valid loss\":valid_loss,\n",
    "                    \"Valid Accuracy\":valid_acc,\n",
    "                    \"Test loss\":test_loss,\n",
    "                    \"Test Accuracy\":test_acc\n",
    "                }\n",
    "            )\n",
    "             \n",
    "        print('epoch:',i)\n",
    "        print('Train loss',train_loss,'train_acc',train_acc)\n",
    "        print('Valid loss',valid_loss,'valid_acc',valid_acc)\n",
    "        print('Test loss',test_loss,'test acc',test_acc)\n",
    "    "
   ]
  },
  {
   "cell_type": "code",
   "execution_count": 10,
   "metadata": {},
   "outputs": [],
   "source": [
    "# 调用cuda,同时设置一些参数\n",
    "device = torch.device(0)\n",
    "epoch = 20\n",
    "model = Net()\n",
    "optimizer = torch.optim.Adam(model.parameters())\n",
    "loss_function = nn.CrossEntropyLoss()\n",
    "model = model.to(device)"
   ]
  },
  {
   "cell_type": "code",
   "execution_count": 11,
   "metadata": {},
   "outputs": [
    {
     "name": "stderr",
     "output_type": "stream",
     "text": [
      "19it [00:04,  4.04it/s]00:00<?, ?it/s]\n",
      "5it [00:00, 380.33it/s]\n",
      "8it [00:00, 457.75it/s]\n",
      "  5%|▌         | 1/20 [00:04<01:30,  4.74s/it]"
     ]
    },
    {
     "name": "stdout",
     "output_type": "stream",
     "text": [
      "epoch: 1\n",
      "Train loss 2.176876469662315 train_acc 0.2538377192982456\n",
      "Valid loss 1.9441388845443726 valid_acc 0.5409090909090909\n",
      "Test loss 2.006058171391487 test acc 0.4423076923076923\n"
     ]
    },
    {
     "name": "stderr",
     "output_type": "stream",
     "text": [
      "19it [00:00, 210.00it/s]\n",
      "5it [00:00, 447.84it/s]\n",
      "8it [00:00, 634.76it/s]\n",
      " 10%|█         | 2/20 [00:04<00:36,  2.03s/it]"
     ]
    },
    {
     "name": "stdout",
     "output_type": "stream",
     "text": [
      "epoch: 2\n",
      "Train loss 1.7185200390062834 train_acc 0.6260964912280702\n",
      "Valid loss 1.4825405120849608 valid_acc 0.7022727272727273\n",
      "Test loss 1.5489587932825089 test acc 0.6781850961538461\n"
     ]
    },
    {
     "name": "stderr",
     "output_type": "stream",
     "text": [
      "19it [00:00, 129.92it/s]\n",
      "5it [00:00, 384.62it/s]\n",
      "8it [00:00, 571.08it/s]\n",
      " 15%|█▌        | 3/20 [00:05<00:20,  1.19s/it]"
     ]
    },
    {
     "name": "stdout",
     "output_type": "stream",
     "text": [
      "epoch: 3\n",
      "Train loss 1.1835577111495168 train_acc 0.7834429824561403\n",
      "Valid loss 0.9786724090576172 valid_acc 0.8198863636363637\n",
      "Test loss 1.0841639265418053 test acc 0.7605168269230769\n"
     ]
    },
    {
     "name": "stderr",
     "output_type": "stream",
     "text": [
      "19it [00:00, 209.59it/s]\n",
      "5it [00:00, 491.04it/s]\n",
      "8it [00:00, 503.62it/s]\n",
      " 20%|██        | 4/20 [00:05<00:12,  1.29it/s]"
     ]
    },
    {
     "name": "stdout",
     "output_type": "stream",
     "text": [
      "epoch: 4\n",
      "Train loss 0.7799321914974012 train_acc 0.8245614035087719\n",
      "Valid loss 0.6690926909446716 valid_acc 0.847159090909091\n",
      "Test loss 0.7781154215335846 test acc 0.8001802884615384\n"
     ]
    },
    {
     "name": "stderr",
     "output_type": "stream",
     "text": [
      "19it [00:00, 201.74it/s]\n",
      "5it [00:00, 550.61it/s]\n",
      "8it [00:00, 419.15it/s]\n",
      " 25%|██▌       | 5/20 [00:05<00:08,  1.83it/s]"
     ]
    },
    {
     "name": "stdout",
     "output_type": "stream",
     "text": [
      "epoch: 5\n",
      "Train loss 0.5695752219149941 train_acc 0.8695175438596491\n",
      "Valid loss 0.5092377185821533 valid_acc 0.93125\n",
      "Test loss 0.6232075542211533 test acc 0.8578725961538461\n"
     ]
    },
    {
     "name": "stderr",
     "output_type": "stream",
     "text": [
      "19it [00:00, 211.37it/s]\n",
      "5it [00:00, 555.99it/s]\n",
      "8it [00:00, 333.32it/s]\n",
      " 30%|███       | 6/20 [00:05<00:05,  2.43it/s]"
     ]
    },
    {
     "name": "stdout",
     "output_type": "stream",
     "text": [
      "epoch: 6\n",
      "Train loss 0.4442730702851948 train_acc 0.9078947368421053\n",
      "Valid loss 0.3965911388397217 valid_acc 0.959659090909091\n",
      "Test loss 0.5429770946502686 test acc 0.8686899038461539\n"
     ]
    },
    {
     "name": "stderr",
     "output_type": "stream",
     "text": [
      "19it [00:00, 162.40it/s]\n",
      "5it [00:00, 416.59it/s]\n",
      "8it [00:00, 265.56it/s]\n",
      " 35%|███▌      | 7/20 [00:05<00:04,  2.95it/s]"
     ]
    },
    {
     "name": "stdout",
     "output_type": "stream",
     "text": [
      "epoch: 7\n",
      "Train loss 0.35020308588680465 train_acc 0.9314692982456141\n",
      "Valid loss 0.31420656442642214 valid_acc 0.96875\n",
      "Test loss 0.47877057641744614 test acc 0.8722956730769231\n"
     ]
    },
    {
     "name": "stderr",
     "output_type": "stream",
     "text": [
      "19it [00:00, 139.25it/s]\n",
      "5it [00:00, 555.67it/s]\n",
      "8it [00:00, 666.75it/s]\n",
      " 40%|████      | 8/20 [00:05<00:03,  3.47it/s]"
     ]
    },
    {
     "name": "stdout",
     "output_type": "stream",
     "text": [
      "epoch: 8\n",
      "Train loss 0.28443452637446553 train_acc 0.9523026315789473\n",
      "Valid loss 0.2602283746004105 valid_acc 0.972159090909091\n",
      "Test loss 0.4388983026146889 test acc 0.8888221153846154\n"
     ]
    },
    {
     "name": "stderr",
     "output_type": "stream",
     "text": [
      "19it [00:00, 215.41it/s]\n",
      "5it [00:00, 416.49it/s]\n",
      "8it [00:00, 571.52it/s]\n",
      " 45%|████▌     | 9/20 [00:05<00:02,  4.17it/s]"
     ]
    },
    {
     "name": "stdout",
     "output_type": "stream",
     "text": [
      "epoch: 9\n",
      "Train loss 0.23758901028256668 train_acc 0.9665570175438596\n",
      "Valid loss 0.21063620448112488 valid_acc 0.975\n",
      "Test loss 0.4235890004783869 test acc 0.8822115384615384\n"
     ]
    },
    {
     "name": "stderr",
     "output_type": "stream",
     "text": [
      "19it [00:00, 205.24it/s]\n",
      "5it [00:00, 624.36it/s]\n",
      "8it [00:00, 514.85it/s]\n",
      " 50%|█████     | 10/20 [00:06<00:02,  4.82it/s]"
     ]
    },
    {
     "name": "stdout",
     "output_type": "stream",
     "text": [
      "epoch: 10\n",
      "Train loss 0.19892563514019312 train_acc 0.9775219298245614\n",
      "Valid loss 0.1730757921934128 valid_acc 0.98125\n",
      "Test loss 0.3952592685818672 test acc 0.8870192307692307\n"
     ]
    },
    {
     "name": "stderr",
     "output_type": "stream",
     "text": [
      "19it [00:00, 208.61it/s]\n",
      "5it [00:00, 504.95it/s]\n",
      "8it [00:00, 216.24it/s]\n",
      " 55%|█████▌    | 11/20 [00:06<00:01,  5.20it/s]"
     ]
    },
    {
     "name": "stdout",
     "output_type": "stream",
     "text": [
      "epoch: 11\n",
      "Train loss 0.16968969608608045 train_acc 0.9808114035087719\n",
      "Valid loss 0.14408986866474152 valid_acc 0.99375\n",
      "Test loss 0.37651101872324944 test acc 0.8801081730769231\n"
     ]
    },
    {
     "name": "stderr",
     "output_type": "stream",
     "text": [
      "19it [00:00, 153.84it/s]\n",
      "5it [00:00, 333.29it/s]\n",
      "8it [00:00, 444.37it/s]\n",
      " 60%|██████    | 12/20 [00:06<00:01,  5.20it/s]"
     ]
    },
    {
     "name": "stdout",
     "output_type": "stream",
     "text": [
      "epoch: 12\n",
      "Train loss 0.1411876792186185 train_acc 0.9835526315789473\n",
      "Valid loss 0.12095648199319839 valid_acc 1.0\n",
      "Test loss 0.36550818011164665 test acc 0.8810096153846154\n"
     ]
    },
    {
     "name": "stderr",
     "output_type": "stream",
     "text": [
      "19it [00:00, 182.58it/s]\n",
      "5it [00:00, 454.11it/s]\n",
      "8it [00:00, 400.00it/s]\n",
      " 65%|██████▌   | 13/20 [00:06<00:01,  5.44it/s]"
     ]
    },
    {
     "name": "stdout",
     "output_type": "stream",
     "text": [
      "epoch: 13\n",
      "Train loss 0.12149415674962495 train_acc 0.9884868421052632\n",
      "Valid loss 0.10261463820934295 valid_acc 1.0\n",
      "Test loss 0.35833899676799774 test acc 0.8783052884615384\n"
     ]
    },
    {
     "name": "stderr",
     "output_type": "stream",
     "text": [
      "19it [00:00, 209.83it/s]\n",
      "5it [00:00, 714.56it/s]\n",
      "8it [00:00, 701.24it/s]\n",
      " 70%|███████   | 14/20 [00:06<00:00,  6.04it/s]"
     ]
    },
    {
     "name": "stdout",
     "output_type": "stream",
     "text": [
      "epoch: 14\n",
      "Train loss 0.10566178866122898 train_acc 0.9901315789473685\n",
      "Valid loss 0.08906531482934951 valid_acc 1.0\n",
      "Test loss 0.35306747630238533 test acc 0.8801081730769231\n"
     ]
    },
    {
     "name": "stderr",
     "output_type": "stream",
     "text": [
      "19it [00:00, 230.16it/s]\n",
      "5it [00:00, 624.97it/s]\n",
      "8it [00:00, 500.05it/s]\n",
      " 75%|███████▌  | 15/20 [00:06<00:00,  6.54it/s]"
     ]
    },
    {
     "name": "stdout",
     "output_type": "stream",
     "text": [
      "epoch: 15\n",
      "Train loss 0.09222753581247832 train_acc 0.9895833333333333\n",
      "Valid loss 0.07527245432138444 valid_acc 1.0\n",
      "Test loss 0.3416645349934697 test acc 0.8792067307692307\n"
     ]
    },
    {
     "name": "stderr",
     "output_type": "stream",
     "text": [
      "19it [00:00, 213.08it/s]\n",
      "5it [00:00, 624.99it/s]\n",
      "8it [00:00, 456.45it/s]\n",
      " 80%|████████  | 16/20 [00:07<00:00,  6.82it/s]"
     ]
    },
    {
     "name": "stdout",
     "output_type": "stream",
     "text": [
      "epoch: 16\n",
      "Train loss 0.07939997256586426 train_acc 0.9967105263157895\n",
      "Valid loss 0.06924290880560875 valid_acc 1.0\n",
      "Test loss 0.3413748424500227 test acc 0.8822115384615384\n"
     ]
    },
    {
     "name": "stderr",
     "output_type": "stream",
     "text": [
      "19it [00:00, 176.82it/s]\n",
      "5it [00:00, 500.17it/s]\n",
      "8it [00:00, 176.59it/s]\n"
     ]
    },
    {
     "name": "stdout",
     "output_type": "stream",
     "text": [
      "epoch: "
     ]
    },
    {
     "name": "stderr",
     "output_type": "stream",
     "text": [
      " 85%|████████▌ | 17/20 [00:07<00:00,  6.28it/s]"
     ]
    },
    {
     "name": "stdout",
     "output_type": "stream",
     "text": [
      "17\n",
      "Train loss 0.07091004009309568 train_acc 0.9983552631578947\n",
      "Valid loss 0.06164337694644928 valid_acc 1.0\n",
      "Test loss 0.3320395862683654 test acc 0.8879206730769231\n"
     ]
    },
    {
     "name": "stderr",
     "output_type": "stream",
     "text": [
      "19it [00:00, 213.45it/s]\n",
      "5it [00:00, 475.62it/s]\n",
      "8it [00:00, 500.07it/s]\n",
      " 90%|█████████ | 18/20 [00:07<00:00,  6.57it/s]"
     ]
    },
    {
     "name": "stdout",
     "output_type": "stream",
     "text": [
      "epoch: 18\n",
      "Train loss 0.06238919251451367 train_acc 1.0\n",
      "Valid loss 0.05552132464945316 valid_acc 1.0\n",
      "Test loss 0.3244030363857746 test acc 0.8897235576923077\n"
     ]
    },
    {
     "name": "stderr",
     "output_type": "stream",
     "text": [
      "19it [00:00, 228.28it/s]\n",
      "5it [00:00, 600.11it/s]\n",
      "8it [00:00, 795.56it/s]\n",
      " 95%|█████████▌| 19/20 [00:07<00:00,  7.11it/s]"
     ]
    },
    {
     "name": "stdout",
     "output_type": "stream",
     "text": [
      "epoch: 19\n",
      "Train loss 0.055658355355262756 train_acc 1.0\n",
      "Valid loss 0.04844651743769646 valid_acc 1.0\n",
      "Test loss 0.3232556041330099 test acc 0.8849158653846154\n"
     ]
    },
    {
     "name": "stderr",
     "output_type": "stream",
     "text": [
      "19it [00:00, 192.87it/s]\n",
      "5it [00:00, 500.13it/s]\n",
      "8it [00:00, 487.52it/s]\n",
      "100%|██████████| 20/20 [00:07<00:00,  2.63it/s]"
     ]
    },
    {
     "name": "stdout",
     "output_type": "stream",
     "text": [
      "epoch: 20\n",
      "Train loss 0.05072746661148573 train_acc 1.0\n",
      "Valid loss 0.04303951561450958 valid_acc 1.0\n",
      "Test loss 0.3227849081158638 test acc 0.8879206730769231\n"
     ]
    },
    {
     "name": "stderr",
     "output_type": "stream",
     "text": [
      "\n"
     ]
    }
   ],
   "source": [
    "# 开始第一次debug\n",
    "train(model,optimizer,loss_function,epoch,TrainLoader,ValidLoader,TestLoader,device,use_wandb=True)"
   ]
  },
  {
   "cell_type": "code",
   "execution_count": 12,
   "metadata": {},
   "outputs": [
    {
     "data": {
      "text/html": [
       "Waiting for W&B process to finish... <strong style=\"color:green\">(success).</strong>"
      ],
      "text/plain": [
       "<IPython.core.display.HTML object>"
      ]
     },
     "metadata": {},
     "output_type": "display_data"
    },
    {
     "data": {
      "text/html": [
       "<style>\n",
       "    table.wandb td:nth-child(1) { padding: 0 10px; text-align: left ; width: auto;} td:nth-child(2) {text-align: left ; width: 100%}\n",
       "    .wandb-row { display: flex; flex-direction: row; flex-wrap: wrap; justify-content: flex-start; width: 100% }\n",
       "    .wandb-col { display: flex; flex-direction: column; flex-basis: 100%; flex: 1; padding: 10px; }\n",
       "    </style>\n",
       "<div class=\"wandb-row\"><div class=\"wandb-col\"><h3>Run history:</h3><br/><table class=\"wandb\"><tr><td>Test Accuracy</td><td>▁▅▆▇████████████████</td></tr><tr><td>Test loss</td><td>█▆▄▃▂▂▂▁▁▁▁▁▁▁▁▁▁▁▁▁</td></tr><tr><td>Train Accuracy</td><td>▁▄▆▆▇▇▇█████████████</td></tr><tr><td>Train loss</td><td>█▆▅▃▃▂▂▂▂▁▁▁▁▁▁▁▁▁▁▁</td></tr><tr><td>Valid Accuracy</td><td>▁▃▅▆▇▇██████████████</td></tr><tr><td>Valid loss</td><td>█▆▄▃▃▂▂▂▂▁▁▁▁▁▁▁▁▁▁▁</td></tr></table><br/></div><div class=\"wandb-col\"><h3>Run summary:</h3><br/><table class=\"wandb\"><tr><td>Test Accuracy</td><td>0.88792</td></tr><tr><td>Test loss</td><td>0.32278</td></tr><tr><td>Train Accuracy</td><td>1.0</td></tr><tr><td>Train loss</td><td>0.05073</td></tr><tr><td>Valid Accuracy</td><td>1.0</td></tr><tr><td>Valid loss</td><td>0.04304</td></tr></table><br/></div></div>"
      ],
      "text/plain": [
       "<IPython.core.display.HTML object>"
      ]
     },
     "metadata": {},
     "output_type": "display_data"
    },
    {
     "data": {
      "text/html": [
       " View run <strong style=\"color:#cdcd00\">jovial-caress-5</strong> at: <a href='https://wandb.ai/zhijiao/Temp_trainer_1/runs/4ne728lb' target=\"_blank\">https://wandb.ai/zhijiao/Temp_trainer_1/runs/4ne728lb</a><br/>Synced 6 W&B file(s), 0 media file(s), 0 artifact file(s) and 0 other file(s)"
      ],
      "text/plain": [
       "<IPython.core.display.HTML object>"
      ]
     },
     "metadata": {},
     "output_type": "display_data"
    },
    {
     "data": {
      "text/html": [
       "Find logs at: <code>.\\wandb\\run-20230215_233952-4ne728lb\\logs</code>"
      ],
      "text/plain": [
       "<IPython.core.display.HTML object>"
      ]
     },
     "metadata": {},
     "output_type": "display_data"
    }
   ],
   "source": [
    "wandb.finish()"
   ]
  }
 ],
 "metadata": {
  "kernelspec": {
   "display_name": "pytorch",
   "language": "python",
   "name": "python3"
  },
  "language_info": {
   "codemirror_mode": {
    "name": "ipython",
    "version": 3
   },
   "file_extension": ".py",
   "mimetype": "text/x-python",
   "name": "python",
   "nbconvert_exporter": "python",
   "pygments_lexer": "ipython3",
   "version": "3.7.15"
  },
  "orig_nbformat": 4,
  "vscode": {
   "interpreter": {
    "hash": "71342f419acc3ba6ae382518c4ba2a9e6f9bd8751a76a463bc8e77674675b221"
   }
  }
 },
 "nbformat": 4,
 "nbformat_minor": 2
}
