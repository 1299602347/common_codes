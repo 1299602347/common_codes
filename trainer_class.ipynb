{
 "cells": [
  {
   "cell_type": "code",
   "execution_count": 1,
   "metadata": {},
   "outputs": [],
   "source": [
    "from tensorflow.keras.datasets import mnist\n",
    "import torch\n",
    "from torch import nn \n",
    "import numpy as np \n",
    "from torch.utils.data import TensorDataset,DataLoader\n",
    "from sklearn.model_selection import train_test_split\n",
    "from tqdm import tqdm\n",
    "import wandb"
   ]
  },
  {
   "cell_type": "code",
   "execution_count": 2,
   "metadata": {},
   "outputs": [],
   "source": [
    "# config_class\n",
    "class base_config():\n",
    "    def __init__(self,lr,epoch,batch_size):\n",
    "        self.lr = lr \n",
    "        self.epoch = epoch\n",
    "        self.batch_size = batch_size"
   ]
  },
  {
   "cell_type": "code",
   "execution_count": 4,
   "metadata": {},
   "outputs": [],
   "source": [
    "# 生成dataloader\n",
    "def create_dataloader(data,batch_size):\n",
    "    return DataLoader(data,batch_size=batch_size,shuffle=True)"
   ]
  },
  {
   "cell_type": "code",
   "execution_count": 14,
   "metadata": {},
   "outputs": [],
   "source": [
    "# trainer_class_classify\n",
    "class classify_trainer():\n",
    "    def __init__(self,model,optimizer,loss_function,traindata,testdata,config,device,valdata=None,use_wandb=False):\n",
    "        self.device = device\n",
    "        self.model = model.to(device)\n",
    "        self.config = config\n",
    "        self.optimizer = optimizer\n",
    "        self.loss_function = loss_function\n",
    "        self.use_wandb = use_wandb\n",
    "        self.trainloader = DataLoader(traindata,batch_size=self.config.batch_size,shuffle=True)\n",
    "        self.testloader = DataLoader(testdata,batch_size=self.config.batch_size,shuffle=True)\n",
    "        if valdata is not None:\n",
    "            self.validloader = DataLoader(valdata,batch_size=self.config.batch_size,shuffle=True)\n",
    "        else:\n",
    "            self.validloader = None\n",
    "        \n",
    "        # init wandb\n",
    "        if self.use_wandb:\n",
    "            project_name = input('please input wandb project name')\n",
    "            print('wandb is loading')\n",
    "            config_dict = {\n",
    "                \"lr\":self.config.lr,\n",
    "                \"batch_size\":self.config.batch_size,\n",
    "                \"epoch\":self.config.epoch,\n",
    "            }\n",
    "            print(\"The project name : \",project_name)\n",
    "            wandb.init(project=project_name,config=config_dict)\n",
    "    \n",
    "    # compute accuracy\n",
    "    @classmethod \n",
    "    def compute_acc(self,pred,label):\n",
    "        return np.equal(pred,label).mean()\n",
    "    \n",
    "    @classmethod\n",
    "    def eval(self,model,dataloader,loss_function,device):\n",
    "        loss = 0\n",
    "        acc = 0\n",
    "        model = model.to(device)\n",
    "        model.eval() # 禁用dropout和bn层\n",
    "        for idx,(data,label) in tqdm(enumerate(dataloader)):\n",
    "            data = data.to(device)\n",
    "            label = label.to(device)\n",
    "            out = model(data)\n",
    "            # 计算loss值\n",
    "            loss += loss_function(out,label).item()\n",
    "            # 计算accuracy\n",
    "            # argmax这块先留个心眼，我不确定这个axis是不是需要微调\n",
    "            pred = torch.argmax(out,axis=1)\n",
    "            pred = pred.cpu().detach().numpy()\n",
    "            label = label.cpu().detach().numpy()\n",
    "            acc += self.compute_acc(pred,label)\n",
    "        \n",
    "        avg_loss = loss/ len(dataloader)\n",
    "        avg_acc = acc / len(dataloader)\n",
    "        return avg_loss,avg_acc\n",
    "        \n",
    "    \n",
    "    def train(self,print_message=True):\n",
    "        for i in tqdm(range(1,self.config.epoch+1)):\n",
    "            # 进行一个model.train()\n",
    "            self.model.train()\n",
    "            # 对于训练过程中每一个epoch的参数记录\n",
    "            train_loss = 0\n",
    "            train_acc = 0\n",
    "            for idx,(data,label) in tqdm(enumerate(self.trainloader)):\n",
    "                data = data.to(self.device)\n",
    "                label = label.to(self.device)\n",
    "                out = self.model(data)\n",
    "                loss = self.loss_function(out,label)\n",
    "                \n",
    "                self.optimizer.zero_grad()\n",
    "                loss.backward()\n",
    "                self.optimizer.step()\n",
    "                # 计算出来损失函数\n",
    "                train_loss += loss.item()\n",
    "                # 转到cpu上计算准确率\n",
    "                pred = torch.argmax(out,axis=1)\n",
    "                pred = np.array(pred.cpu().detach().numpy())\n",
    "                label = np.array(label.cpu().detach().numpy())\n",
    "                train_acc += self.compute_acc(pred,label)\n",
    "            # 一个epoch结束后，计算均值\n",
    "            train_loss = train_loss / len(self.trainloader)\n",
    "            train_acc = train_acc  / len(self.trainloader)\n",
    "            # 剩下的是验证集和测试集\n",
    "            if self.validloader:\n",
    "                valid_loss,valid_acc = self.eval(self.model,self.validloader,self.loss_function,self.device)\n",
    "            else:\n",
    "                valid_loss =0.0\n",
    "                valid_acc = 0.0\n",
    "            \n",
    "            test_loss,test_acc = self.eval(self.model,self.testloader,self.loss_function,self.device)     \n",
    "            if self.use_wandb:\n",
    "                wandb.log(\n",
    "                    {\n",
    "                        \"Train loss\":train_loss,\n",
    "                        \"Train Accuracy\":train_acc,\n",
    "                        \"Valid loss\":valid_loss,\n",
    "                        \"Valid Accuracy\":valid_acc,\n",
    "                        \"Test loss\":test_loss,\n",
    "                        \"Test Accuracy\":test_acc\n",
    "                    }\n",
    "                )\n",
    "            if print_message:\n",
    "                print('epoch:',i)\n",
    "                print('Train loss',train_loss,'train_acc',train_acc)\n",
    "                print('Valid loss',valid_loss,'valid_acc',valid_acc)\n",
    "                print('Test loss',test_loss,'test acc',test_acc) \n",
    "        print('Finished')\n",
    "    \n",
    "    def stop(self):\n",
    "        if self.use_wandb:\n",
    "            wandb.finish()\n",
    "        else:\n",
    "            print(\"No wandb used\")"
   ]
  },
  {
   "cell_type": "code",
   "execution_count": 10,
   "metadata": {},
   "outputs": [],
   "source": [
    "# 设置一下config\n",
    "config = base_config(lr = 0.01, epoch = 20,batch_size=32)"
   ]
  },
  {
   "cell_type": "code",
   "execution_count": 9,
   "metadata": {},
   "outputs": [],
   "source": [
    "# 读取数据集\n",
    "train_data,test_data = mnist.load_data()\n",
    "# 数据集太大，用一小部分试一试\n",
    "data,label = train_data[0][0:1000],train_data[1][0:1000]\n",
    "# 考虑到灰度数据用conv2d处理的时候需要增加一个通道维度，需要对数据集进行一个变换\n",
    "data = np.expand_dims(data,1)\n",
    "\n",
    "# 构造数据集\n",
    "data = torch.Tensor(data)\n",
    "label = torch.LongTensor(label)\n",
    "# 划分数据集\n",
    "x_train,x_test,y_train,y_test = train_test_split(data,label)\n",
    "x_train = x_train[150:]\n",
    "y_train = y_train[150:]\n",
    "\n",
    "x_valid = x_train[0:150]\n",
    "y_valid = y_train[0:150]\n",
    "\n",
    "TrainData = TensorDataset(x_train,y_train)\n",
    "ValidData = TensorDataset(x_valid,y_valid)\n",
    "TestData = TensorDataset(x_test,y_test)"
   ]
  },
  {
   "cell_type": "code",
   "execution_count": null,
   "metadata": {},
   "outputs": [],
   "source": [
    "# 测试用神经网络\n",
    "# 撸个简单的卷积神经网络\n",
    "class Net(nn.Module):\n",
    "    def __init__(self):\n",
    "        super().__init__()\n",
    "        self.conv1 = nn.Conv2d(1,3,3,1,1)\n",
    "        self.pooling = nn.MaxPool2d(2)\n",
    "        self.bn = nn.BatchNorm2d(3)\n",
    "        self.relu = nn.ReLU()\n",
    "        self.flatten = nn.Flatten()\n",
    "        self.fc =  nn.Linear(14*14*3,10)\n",
    "    def forward(self,x):\n",
    "        x = self.conv1(x)\n",
    "        x = self.pooling(x)\n",
    "        x = self.bn(x)\n",
    "        x = self.relu(x)\n",
    "        x = self.flatten(x)\n",
    "        x= self.fc(x)\n",
    "        return x"
   ]
  },
  {
   "cell_type": "code",
   "execution_count": 11,
   "metadata": {},
   "outputs": [],
   "source": [
    "# 调用cuda,同时设置一些参数\n",
    "device = torch.device(0)\n",
    "model = Net()\n",
    "optimizer = torch.optim.Adam(model.parameters(),lr = config.lr)\n",
    "loss_function = nn.CrossEntropyLoss() "
   ]
  },
  {
   "cell_type": "code",
   "execution_count": 12,
   "metadata": {},
   "outputs": [
    {
     "name": "stdout",
     "output_type": "stream",
     "text": [
      "wandb is loading\n",
      "The project name :  my_temp_trainer_1\n"
     ]
    },
    {
     "name": "stderr",
     "output_type": "stream",
     "text": [
      "Failed to detect the name of this notebook, you can set it manually with the WANDB_NOTEBOOK_NAME environment variable to enable code saving.\n",
      "\u001b[34m\u001b[1mwandb\u001b[0m: Currently logged in as: \u001b[33mzhijiao\u001b[0m. Use \u001b[1m`wandb login --relogin`\u001b[0m to force relogin\n"
     ]
    },
    {
     "data": {
      "application/vnd.jupyter.widget-view+json": {
       "model_id": "44d61c28405c40ae9453bfcd4dd284e7",
       "version_major": 2,
       "version_minor": 0
      },
      "text/plain": [
       "VBox(children=(Label(value='Waiting for wandb.init()...\\r'), FloatProgress(value=0.016666666666666666, max=1.0…"
      ]
     },
     "metadata": {},
     "output_type": "display_data"
    },
    {
     "data": {
      "text/html": [
       "Tracking run with wandb version 0.13.10"
      ],
      "text/plain": [
       "<IPython.core.display.HTML object>"
      ]
     },
     "metadata": {},
     "output_type": "display_data"
    },
    {
     "data": {
      "text/html": [
       "Run data is saved locally in <code>c:\\Users\\SuZhao\\Desktop\\temp_repository\\wandb\\run-20230217_144106-crs28nhk</code>"
      ],
      "text/plain": [
       "<IPython.core.display.HTML object>"
      ]
     },
     "metadata": {},
     "output_type": "display_data"
    },
    {
     "data": {
      "text/html": [
       "Syncing run <strong><a href='https://wandb.ai/zhijiao/my_temp_trainer_1/runs/crs28nhk' target=\"_blank\">wandering-surf-1</a></strong> to <a href='https://wandb.ai/zhijiao/my_temp_trainer_1' target=\"_blank\">Weights & Biases</a> (<a href='https://wandb.me/run' target=\"_blank\">docs</a>)<br/>"
      ],
      "text/plain": [
       "<IPython.core.display.HTML object>"
      ]
     },
     "metadata": {},
     "output_type": "display_data"
    },
    {
     "data": {
      "text/html": [
       " View project at <a href='https://wandb.ai/zhijiao/my_temp_trainer_1' target=\"_blank\">https://wandb.ai/zhijiao/my_temp_trainer_1</a>"
      ],
      "text/plain": [
       "<IPython.core.display.HTML object>"
      ]
     },
     "metadata": {},
     "output_type": "display_data"
    },
    {
     "data": {
      "text/html": [
       " View run at <a href='https://wandb.ai/zhijiao/my_temp_trainer_1/runs/crs28nhk' target=\"_blank\">https://wandb.ai/zhijiao/my_temp_trainer_1/runs/crs28nhk</a>"
      ],
      "text/plain": [
       "<IPython.core.display.HTML object>"
      ]
     },
     "metadata": {},
     "output_type": "display_data"
    }
   ],
   "source": [
    "trainer = classify_trainer(model=model,device=device,config=config,loss_function=loss_function,optimizer=optimizer,traindata=TrainData,testdata=TestData,valdata=ValidData,use_wandb=True)"
   ]
  },
  {
   "cell_type": "code",
   "execution_count": 13,
   "metadata": {},
   "outputs": [
    {
     "name": "stderr",
     "output_type": "stream",
     "text": [
      "19it [00:05,  3.37it/s]00:00<?, ?it/s]\n",
      "5it [00:00, 555.58it/s]\n",
      "8it [00:00, 726.88it/s]\n",
      "  5%|▌         | 1/20 [00:05<01:47,  5.67s/it]"
     ]
    },
    {
     "name": "stdout",
     "output_type": "stream",
     "text": [
      "epoch: 1\n",
      "Train loss 1.1325401538296749 train_acc 0.6398026315789473\n",
      "Valid loss 0.27536901384592055 valid_acc 0.909659090909091\n",
      "Test loss 0.5699038505554199 test acc 0.8146033653846154\n"
     ]
    },
    {
     "name": "stderr",
     "output_type": "stream",
     "text": [
      "19it [00:00, 283.20it/s]\n",
      "5it [00:00, 625.01it/s]\n",
      "8it [00:00, 666.62it/s]\n",
      " 10%|█         | 2/20 [00:05<00:43,  2.40s/it]"
     ]
    },
    {
     "name": "stdout",
     "output_type": "stream",
     "text": [
      "epoch: 2\n",
      "Train loss 0.26620716954532425 train_acc 0.9199561403508772\n",
      "Valid loss 0.14407578259706497 valid_acc 0.975\n",
      "Test loss 0.5744858831167221 test acc 0.8353365384615384\n"
     ]
    },
    {
     "name": "stderr",
     "output_type": "stream",
     "text": [
      "19it [00:00, 216.24it/s]\n",
      "5it [00:00, 833.63it/s]\n",
      "8it [00:00, 727.29it/s]\n",
      " 15%|█▌        | 3/20 [00:05<00:23,  1.36s/it]"
     ]
    },
    {
     "name": "stdout",
     "output_type": "stream",
     "text": [
      "epoch: 3\n",
      "Train loss 0.12384537313329547 train_acc 0.9769736842105263\n",
      "Valid loss 0.07092574387788772 valid_acc 0.98125\n",
      "Test loss 0.5311756376177073 test acc 0.8674879807692307\n"
     ]
    },
    {
     "name": "stderr",
     "output_type": "stream",
     "text": [
      "19it [00:00, 316.68it/s]\n",
      "5it [00:00, 555.95it/s]\n",
      "8it [00:00, 533.25it/s]\n",
      " 20%|██        | 4/20 [00:06<00:13,  1.16it/s]"
     ]
    },
    {
     "name": "stdout",
     "output_type": "stream",
     "text": [
      "epoch: 4\n",
      "Train loss 0.05074793688560787 train_acc 0.993421052631579\n",
      "Valid loss 0.03144514244049788 valid_acc 0.99375\n",
      "Test loss 0.5509920343756676 test acc 0.8731971153846154\n"
     ]
    },
    {
     "name": "stderr",
     "output_type": "stream",
     "text": [
      "19it [00:00, 217.12it/s]\n",
      "5it [00:00, 555.95it/s]\n",
      "8it [00:00, 195.12it/s]\n",
      " 25%|██▌       | 5/20 [00:06<00:09,  1.63it/s]"
     ]
    },
    {
     "name": "stdout",
     "output_type": "stream",
     "text": [
      "epoch: 5\n",
      "Train loss 0.023161401531021846 train_acc 0.9983552631578947\n",
      "Valid loss 0.019441003445535898 valid_acc 1.0\n",
      "Test loss 0.5504506155848503 test acc 0.8753004807692307\n"
     ]
    },
    {
     "name": "stderr",
     "output_type": "stream",
     "text": [
      "19it [00:00, 294.52it/s]\n",
      "5it [00:00, 714.78it/s]\n",
      "8it [00:00, 371.84it/s]\n",
      " 30%|███       | 6/20 [00:06<00:06,  2.25it/s]"
     ]
    },
    {
     "name": "stdout",
     "output_type": "stream",
     "text": [
      "epoch: 6\n",
      "Train loss 0.013494530178018306 train_acc 1.0\n",
      "Valid loss 0.013389047048985959 valid_acc 1.0\n",
      "Test loss 0.5860956944525242 test acc 0.8762019230769231\n"
     ]
    },
    {
     "name": "stderr",
     "output_type": "stream",
     "text": [
      "19it [00:00, 256.93it/s]\n",
      "5it [00:00, 277.85it/s]\n",
      "8it [00:00, 533.37it/s]\n",
      " 35%|███▌      | 7/20 [00:06<00:04,  2.90it/s]"
     ]
    },
    {
     "name": "stdout",
     "output_type": "stream",
     "text": [
      "epoch: 7\n",
      "Train loss 0.009188119175010607 train_acc 1.0\n",
      "Valid loss 0.008925470244139432 valid_acc 1.0\n",
      "Test loss 0.5844008019194007 test acc 0.88671875\n"
     ]
    },
    {
     "name": "stderr",
     "output_type": "stream",
     "text": [
      "19it [00:00, 222.19it/s]\n",
      "5it [00:00, 500.25it/s]\n",
      "8it [00:00, 727.29it/s]\n",
      " 40%|████      | 8/20 [00:06<00:03,  3.63it/s]"
     ]
    },
    {
     "name": "stdout",
     "output_type": "stream",
     "text": [
      "epoch: 8\n",
      "Train loss 0.006765083238286407 train_acc 1.0\n",
      "Valid loss 0.006974199786782265 valid_acc 1.0\n",
      "Test loss 0.6112926742061973 test acc 0.8762019230769231\n"
     ]
    },
    {
     "name": "stderr",
     "output_type": "stream",
     "text": [
      "19it [00:00, 233.09it/s]\n",
      "5it [00:00, 625.16it/s]\n",
      "8it [00:00, 280.52it/s]\n",
      " 45%|████▌     | 9/20 [00:06<00:02,  4.27it/s]"
     ]
    },
    {
     "name": "stdout",
     "output_type": "stream",
     "text": [
      "epoch: 9\n",
      "Train loss 0.005388473172819144 train_acc 1.0\n",
      "Valid loss 0.004838978406041861 valid_acc 1.0\n",
      "Test loss 0.6100473236292601 test acc 0.8858173076923077\n"
     ]
    },
    {
     "name": "stderr",
     "output_type": "stream",
     "text": [
      "19it [00:00, 231.58it/s]\n",
      "5it [00:00, 416.68it/s]\n",
      "8it [00:00, 500.02it/s]\n",
      " 50%|█████     | 10/20 [00:06<00:02,  4.92it/s]"
     ]
    },
    {
     "name": "stdout",
     "output_type": "stream",
     "text": [
      "epoch: 10\n",
      "Train loss 0.004168477301534854 train_acc 1.0\n",
      "Valid loss 0.004258430376648903 valid_acc 1.0\n",
      "Test loss 0.6276752213016152 test acc 0.8810096153846154\n"
     ]
    },
    {
     "name": "stderr",
     "output_type": "stream",
     "text": [
      "19it [00:00, 173.46it/s]\n",
      "5it [00:00, 323.58it/s]\n",
      "8it [00:00, 500.39it/s]\n",
      " 55%|█████▌    | 11/20 [00:07<00:01,  5.20it/s]"
     ]
    },
    {
     "name": "stdout",
     "output_type": "stream",
     "text": [
      "epoch: 11\n",
      "Train loss 0.0034315689301461375 train_acc 1.0\n",
      "Valid loss 0.0035156967118382455 valid_acc 1.0\n",
      "Test loss 0.6575650675222278 test acc 0.8792067307692307\n"
     ]
    },
    {
     "name": "stderr",
     "output_type": "stream",
     "text": [
      "19it [00:00, 238.97it/s]\n",
      "5it [00:00, 833.16it/s]\n",
      "8it [00:00, 800.15it/s]\n",
      " 60%|██████    | 12/20 [00:07<00:01,  5.93it/s]"
     ]
    },
    {
     "name": "stdout",
     "output_type": "stream",
     "text": [
      "epoch: 12\n",
      "Train loss 0.003023978757770046 train_acc 1.0\n",
      "Valid loss 0.00350077694747597 valid_acc 1.0\n",
      "Test loss 0.6782620195299387 test acc 0.8704927884615384\n"
     ]
    },
    {
     "name": "stderr",
     "output_type": "stream",
     "text": [
      "19it [00:00, 327.57it/s]\n",
      "5it [00:00, 833.76it/s]\n",
      "8it [00:00, 889.07it/s]\n"
     ]
    },
    {
     "name": "stdout",
     "output_type": "stream",
     "text": [
      "epoch: 13\n",
      "Train loss 0.0025740358181984015 train_acc 1.0\n",
      "Valid loss 0.0025504824705421926 valid_acc 1.0\n",
      "Test loss 0.6490727886557579 test acc 0.8801081730769231\n"
     ]
    },
    {
     "name": "stderr",
     "output_type": "stream",
     "text": [
      "19it [00:00, 322.04it/s]\n",
      "5it [00:00, 555.68it/s]\n",
      "8it [00:00, 888.84it/s]\n",
      " 70%|███████   | 14/20 [00:07<00:00,  7.57it/s]"
     ]
    },
    {
     "name": "stdout",
     "output_type": "stream",
     "text": [
      "epoch: 14\n",
      "Train loss 0.002258430823291603 train_acc 1.0\n",
      "Valid loss 0.0023655532044358552 valid_acc 1.0\n",
      "Test loss 0.6641375478357077 test acc 0.8810096153846154\n"
     ]
    },
    {
     "name": "stderr",
     "output_type": "stream",
     "text": [
      "19it [00:00, 309.38it/s]\n",
      "5it [00:00, 714.29it/s]\n",
      "8it [00:00, 939.90it/s]\n"
     ]
    },
    {
     "name": "stdout",
     "output_type": "stream",
     "text": [
      "epoch: 15\n",
      "Train loss 0.0019458536132189788 train_acc 1.0\n",
      "Valid loss 0.0019646560307592154 valid_acc 1.0\n",
      "Test loss 0.6908159088343382 test acc 0.8801081730769231\n"
     ]
    },
    {
     "name": "stderr",
     "output_type": "stream",
     "text": [
      "19it [00:00, 144.45it/s]\n",
      "5it [00:00, 357.14it/s]\n",
      "8it [00:00, 270.97it/s]\n",
      " 80%|████████  | 16/20 [00:07<00:00,  7.21it/s]"
     ]
    },
    {
     "name": "stdout",
     "output_type": "stream",
     "text": [
      "epoch: 16\n",
      "Train loss 0.0017636455227865984 train_acc 1.0\n",
      "Valid loss 0.0017546661430969835 valid_acc 1.0\n",
      "Test loss 0.680209930986166 test acc 0.8801081730769231\n"
     ]
    },
    {
     "name": "stderr",
     "output_type": "stream",
     "text": [
      "19it [00:00, 235.97it/s]\n",
      "5it [00:00, 525.00it/s]\n",
      "8it [00:00, 800.08it/s]\n",
      " 85%|████████▌ | 17/20 [00:07<00:00,  7.42it/s]"
     ]
    },
    {
     "name": "stdout",
     "output_type": "stream",
     "text": [
      "epoch: 17\n",
      "Train loss 0.001513707718052166 train_acc 1.0\n",
      "Valid loss 0.0017149405437521636 valid_acc 1.0\n",
      "Test loss 0.6799017079174519 test acc 0.8810096153846154\n"
     ]
    },
    {
     "name": "stderr",
     "output_type": "stream",
     "text": [
      "19it [00:00, 339.24it/s]\n",
      "5it [00:00, 705.04it/s]\n",
      "8it [00:00, 800.46it/s]\n"
     ]
    },
    {
     "name": "stdout",
     "output_type": "stream",
     "text": [
      "epoch: 18\n",
      "Train loss 0.001414583447560864 train_acc 1.0\n",
      "Valid loss 0.0013643806567415595 valid_acc 1.0\n",
      "Test loss 0.6816367506980896 test acc 0.8849158653846154\n"
     ]
    },
    {
     "name": "stderr",
     "output_type": "stream",
     "text": [
      "19it [00:00, 283.26it/s]\n",
      "5it [00:00, 795.46it/s]\n",
      "8it [00:00, 888.51it/s]\n",
      " 95%|█████████▌| 19/20 [00:07<00:00,  8.38it/s]"
     ]
    },
    {
     "name": "stdout",
     "output_type": "stream",
     "text": [
      "epoch: 19\n",
      "Train loss 0.0012879216504332266 train_acc 1.0\n",
      "Valid loss 0.0013248325791209935 valid_acc 1.0\n",
      "Test loss 0.6807376639917493 test acc 0.8819110576923077\n"
     ]
    },
    {
     "name": "stderr",
     "output_type": "stream",
     "text": [
      "19it [00:00, 198.07it/s]\n",
      "5it [00:00, 999.98it/s]\n",
      "8it [00:00, 665.66it/s]\n",
      "100%|██████████| 20/20 [00:08<00:00,  2.49it/s]"
     ]
    },
    {
     "name": "stdout",
     "output_type": "stream",
     "text": [
      "epoch: 20\n",
      "Train loss 0.0011371760537210655 train_acc 1.0\n",
      "Valid loss 0.0011660270625725388 valid_acc 1.0\n",
      "Test loss 0.7008891480509192 test acc 0.8810096153846154\n",
      "Finished\n"
     ]
    },
    {
     "name": "stderr",
     "output_type": "stream",
     "text": [
      "\n"
     ]
    },
    {
     "data": {
      "text/html": [
       "Waiting for W&B process to finish... <strong style=\"color:green\">(success).</strong>"
      ],
      "text/plain": [
       "<IPython.core.display.HTML object>"
      ]
     },
     "metadata": {},
     "output_type": "display_data"
    },
    {
     "data": {
      "text/html": [
       "<style>\n",
       "    table.wandb td:nth-child(1) { padding: 0 10px; text-align: left ; width: auto;} td:nth-child(2) {text-align: left ; width: 100%}\n",
       "    .wandb-row { display: flex; flex-direction: row; flex-wrap: wrap; justify-content: flex-start; width: 100% }\n",
       "    .wandb-col { display: flex; flex-direction: column; flex-basis: 100%; flex: 1; padding: 10px; }\n",
       "    </style>\n",
       "<div class=\"wandb-row\"><div class=\"wandb-col\"><h3>Run history:</h3><br/><table class=\"wandb\"><tr><td>Test Accuracy</td><td>▁▃▆▇▇▇█▇█▇▇▆▇▇▇▇▇██▇</td></tr><tr><td>Test loss</td><td>▃▃▁▂▂▃▃▄▄▅▆▇▆▆█▇▇▇▇█</td></tr><tr><td>Train Accuracy</td><td>▁▆██████████████████</td></tr><tr><td>Train loss</td><td>█▃▂▁▁▁▁▁▁▁▁▁▁▁▁▁▁▁▁▁</td></tr><tr><td>Valid Accuracy</td><td>▁▆▇█████████████████</td></tr><tr><td>Valid loss</td><td>█▅▃▂▁▁▁▁▁▁▁▁▁▁▁▁▁▁▁▁</td></tr></table><br/></div><div class=\"wandb-col\"><h3>Run summary:</h3><br/><table class=\"wandb\"><tr><td>Test Accuracy</td><td>0.88101</td></tr><tr><td>Test loss</td><td>0.70089</td></tr><tr><td>Train Accuracy</td><td>1.0</td></tr><tr><td>Train loss</td><td>0.00114</td></tr><tr><td>Valid Accuracy</td><td>1.0</td></tr><tr><td>Valid loss</td><td>0.00117</td></tr></table><br/></div></div>"
      ],
      "text/plain": [
       "<IPython.core.display.HTML object>"
      ]
     },
     "metadata": {},
     "output_type": "display_data"
    },
    {
     "data": {
      "text/html": [
       " View run <strong style=\"color:#cdcd00\">wandering-surf-1</strong> at: <a href='https://wandb.ai/zhijiao/my_temp_trainer_1/runs/crs28nhk' target=\"_blank\">https://wandb.ai/zhijiao/my_temp_trainer_1/runs/crs28nhk</a><br/>Synced 6 W&B file(s), 0 media file(s), 0 artifact file(s) and 0 other file(s)"
      ],
      "text/plain": [
       "<IPython.core.display.HTML object>"
      ]
     },
     "metadata": {},
     "output_type": "display_data"
    },
    {
     "data": {
      "text/html": [
       "Find logs at: <code>.\\wandb\\run-20230217_144106-crs28nhk\\logs</code>"
      ],
      "text/plain": [
       "<IPython.core.display.HTML object>"
      ]
     },
     "metadata": {},
     "output_type": "display_data"
    }
   ],
   "source": [
    "trainer.train()"
   ]
  }
 ],
 "metadata": {
  "kernelspec": {
   "display_name": "pytorch",
   "language": "python",
   "name": "python3"
  },
  "language_info": {
   "codemirror_mode": {
    "name": "ipython",
    "version": 3
   },
   "file_extension": ".py",
   "mimetype": "text/x-python",
   "name": "python",
   "nbconvert_exporter": "python",
   "pygments_lexer": "ipython3",
   "version": "3.7.15"
  },
  "orig_nbformat": 4,
  "vscode": {
   "interpreter": {
    "hash": "71342f419acc3ba6ae382518c4ba2a9e6f9bd8751a76a463bc8e77674675b221"
   }
  }
 },
 "nbformat": 4,
 "nbformat_minor": 2
}
